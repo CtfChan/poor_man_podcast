{
 "cells": [
  {
   "cell_type": "code",
   "execution_count": 1,
   "metadata": {},
   "outputs": [
    {
     "name": "stderr",
     "output_type": "stream",
     "text": [
      "/Users/ctfchan/Developer/langchain-experiment/.venv/lib/python3.9/site-packages/urllib3/__init__.py:34: NotOpenSSLWarning: urllib3 v2 only supports OpenSSL 1.1.1+, currently the 'ssl' module is compiled with 'LibreSSL 2.8.3'. See: https://github.com/urllib3/urllib3/issues/3020\n",
      "  warnings.warn(\n"
     ]
    }
   ],
   "source": [
    "from langchain.chains.summarize import load_summarize_chain\n",
    "from langchain.chat_models import ChatOpenAI\n",
    "# from langchain.document_loaders import WebBaseLoader\n",
    "from langchain.document_loaders import PyPDFLoader\n",
    "from langchain.text_splitter import CharacterTextSplitter\n",
    "import time\n",
    "from langchain.docstore.document import Document\n",
    "from langchain.prompts import PromptTemplate"
   ]
  },
  {
   "cell_type": "code",
   "execution_count": 2,
   "metadata": {},
   "outputs": [
    {
     "name": "stdout",
     "output_type": "stream",
     "text": [
      "Documents size: 21\n"
     ]
    }
   ],
   "source": [
    "# Load Documents\n",
    "loader = PyPDFLoader('data/harvesting_alpha.pdf')\n",
    "documents = loader.load()\n",
    "\n",
    "text_splitter = CharacterTextSplitter(chunk_size=5000, chunk_overlap=500)\n",
    "documents = text_splitter.split_documents(documents)\n",
    "print(\"Documents size: {doc_len}\".format(doc_len=len(documents)))"
   ]
  },
  {
   "cell_type": "code",
   "execution_count": 3,
   "metadata": {},
   "outputs": [],
   "source": [
    "\n",
    "# Define prompt\n",
    "prompt_template = \"\"\"\n",
    "You are a helpful assistant that helps retrieve topics talked about in a podcast transcript\n",
    "- Your goal is to summarize snippets of a podcast\n",
    "- Topics include:\n",
    "  - Themes\n",
    "  - Business Ideas\n",
    "  - Interesting Stories\n",
    "  - Money making businesses\n",
    "  - Quick stories about people\n",
    "  - Mental Frameworks\n",
    "  - Stories about an industry\n",
    "  - Analogies mentioned\n",
    "  - Advice or words of caution\n",
    "  - Pieces of news or current events\n",
    "- Use the same words and terminology that is said in the podcast\n",
    "- Do not respond with anything outside of the podcast. If you don't see any topics, say, 'No Topics'\n",
    "- Do not respond with numbers, just bullet points\n",
    "- Do not include anything about 'Marketing Against the Grain'\n",
    "- Only pull topics from the transcript. Do not use the examples\n",
    "\n",
    "Write a concise summary of the following:\n",
    "\"{text}\"\n",
    "CONCISE SUMMARY:\"\"\"\n",
    "prompt = PromptTemplate.from_template(prompt_template)\n",
    "\n",
    "llm = ChatOpenAI(temperature=0, model_name=\"gpt-3.5-turbo-1106\")\n",
    "chain = load_summarize_chain(llm, chain_type=\"stuff\", prompt=prompt)"
   ]
  },
  {
   "cell_type": "code",
   "execution_count": 4,
   "metadata": {},
   "outputs": [
    {
     "name": "stdout",
     "output_type": "stream",
     "text": [
      "Brandon Zick, the CIO of Ceres Partners, manages a $1.4 billion fund that invests in farmland. He grew up on a dairy farm in Pennsylvania before working on Wall Street for over a decade. He discusses the demand and supply dynamics, the economics of farming, and the criteria for investing in farms. Zick emphasizes the value and optionality of owning land and dispels the misconception of consolidated land ownership in the U.S. He also highlights the low institutional ownership of farmland.\n",
      "The majority of land ownership in the US is held by non-farming heirs, estates, and trusts, with a robust rental market for farmland. Farmland is actively operated by family farms, and there is a trend of consolidation as generations move away from farming. Institutional investors have started to enter the farmland market, but the diverse ownership group makes it difficult for a large-scale roll-up of assets. The turnover of farmland ownership is low, and it will take generations for significant changes to occur in the ownership landscape.\n",
      "Ceres, an investment company, has been around for 30 years and only 3% of farmland is institutionally owned in the US. In other parts of the world, institutions can deploy capital more easily due to different property rights. Land transactions are primarily done through private transactions and public auctions, with private transactions being the larger part of the market. Ceres uses farm tenants to source deal flow and believes in investing in the US due to limited availability of farmland for sale.\n"
     ]
    },
    {
     "ename": "KeyboardInterrupt",
     "evalue": "",
     "output_type": "error",
     "traceback": [
      "\u001b[0;31m---------------------------------------------------------------------------\u001b[0m",
      "\u001b[0;31mKeyboardInterrupt\u001b[0m                         Traceback (most recent call last)",
      "Cell \u001b[0;32mIn[4], line 5\u001b[0m\n\u001b[1;32m      3\u001b[0m \u001b[38;5;28;01mfor\u001b[39;00m i, doc \u001b[38;5;129;01min\u001b[39;00m \u001b[38;5;28menumerate\u001b[39m(documents):\n\u001b[1;32m      4\u001b[0m     \u001b[38;5;28;01mif\u001b[39;00m (i \u001b[38;5;241m!=\u001b[39m \u001b[38;5;241m0\u001b[39m \u001b[38;5;129;01mand\u001b[39;00m i \u001b[38;5;241m%\u001b[39m \u001b[38;5;241m3\u001b[39m \u001b[38;5;241m==\u001b[39m \u001b[38;5;241m0\u001b[39m):\n\u001b[0;32m----> 5\u001b[0m         \u001b[43mtime\u001b[49m\u001b[38;5;241;43m.\u001b[39;49m\u001b[43msleep\u001b[49m\u001b[43m(\u001b[49m\u001b[38;5;241;43m30\u001b[39;49m\u001b[43m)\u001b[49m\n\u001b[1;32m      6\u001b[0m     summary \u001b[38;5;241m=\u001b[39m chain\u001b[38;5;241m.\u001b[39mrun([doc])\n\u001b[1;32m      7\u001b[0m     summaries\u001b[38;5;241m.\u001b[39mappend(summary)\n",
      "\u001b[0;31mKeyboardInterrupt\u001b[0m: "
     ]
    }
   ],
   "source": [
    "# 3 RPM for free tier.\n",
    "summaries = []\n",
    "for i, doc in enumerate(documents):\n",
    "    if (i != 0 and i % 3 == 0):\n",
    "        time.sleep(30)\n",
    "    summary = chain.run([doc])\n",
    "    summaries.append(summary)\n",
    "    print(summary)"
   ]
  },
  {
   "cell_type": "code",
   "execution_count": 20,
   "metadata": {},
   "outputs": [],
   "source": [
    "summary_docs = [Document(page_content=t) for t in summaries]\n",
    "summary_prompt_template = \"\"\"\n",
    "You are a helpful assistant that helps retrieve topics talked about in a podcast transcript\n",
    "- You will be given a series of bullet snippet summaries \n",
    "- Only pull topics from the transcript. Do not use the examples\n",
    "\n",
    "Write a concise summary of the following:\n",
    "\"{text}\"\n",
    "CONCISE SUMMARY:\"\"\"\n",
    "summary_prompt_template = PromptTemplate.from_template(summary_prompt_template)\n",
    "\n",
    "summary_llm = ChatOpenAI(temperature=0, model_name=\"gpt-3.5-turbo-1106\")\n",
    "summary_chain = load_summarize_chain(summary_llm, chain_type=\"stuff\", prompt=summary_prompt_template)\n",
    "final_summary = chain.run(summary_docs)\n"
   ]
  },
  {
   "cell_type": "code",
   "execution_count": 21,
   "metadata": {},
   "outputs": [
    {
     "data": {
      "text/plain": [
       "'Brandon Zick, the CIO of Ceres Partners, manages a $1.4 billion fund that invests in farmland. He discusses the demand and supply dynamics, the economics of farming, and the ownership of US farmland. Farmland ownership in the US is not consolidated, with about half owned by heirs, estates, and trusts, and 40-45% owned by actual farmers. Institutional ownership is low. Ceres Farms focuses on underwriting deals with farmers and prioritizes working with local tenants. They aim to sell when prices are high, reinvest when prices are attractive, and believe their structure will benefit them in the current cycle.'"
      ]
     },
     "execution_count": 21,
     "metadata": {},
     "output_type": "execute_result"
    }
   ],
   "source": [
    "final_summary"
   ]
  },
  {
   "cell_type": "code",
   "execution_count": null,
   "metadata": {},
   "outputs": [],
   "source": []
  }
 ],
 "metadata": {
  "kernelspec": {
   "display_name": ".venv",
   "language": "python",
   "name": "python3"
  },
  "language_info": {
   "codemirror_mode": {
    "name": "ipython",
    "version": 3
   },
   "file_extension": ".py",
   "mimetype": "text/x-python",
   "name": "python",
   "nbconvert_exporter": "python",
   "pygments_lexer": "ipython3",
   "version": "3.9.6"
  }
 },
 "nbformat": 4,
 "nbformat_minor": 2
}
